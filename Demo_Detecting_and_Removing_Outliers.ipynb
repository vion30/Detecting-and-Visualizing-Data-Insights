{
 "cells": [
  {
   "cell_type": "markdown",
   "metadata": {
    "id": "UTksWzkdN705"
   },
   "source": [
    "# Day 21 - LU1\n",
    "\n",
    "<h2>Demo - Detecting and Removing Outliers</h2>\n",
    "\n",
    "In this demo, you will be shown how to detect and remove outliers using Z-score and IQR score."
   ]
  },
  {
   "cell_type": "code",
   "execution_count": 1,
   "metadata": {
    "id": "RMIE_BI5N709"
   },
   "outputs": [],
   "source": [
    "#Import the required libraries\n",
    "import pandas as pd\n",
    "from sklearn import datasets\n",
    "import sklearn\n",
    "from scipy import stats\n",
    "import numpy as np"
   ]
  },
  {
   "cell_type": "code",
   "execution_count": 15,
   "metadata": {},
   "outputs": [
    {
     "name": "stdout",
     "output_type": "stream",
     "text": [
      "        CRIM        ZN       INDUS      CHAS         NOX        RM       AGE  \\\n",
      "0   0.567544  0.294749    0.078595  0.080668    0.846974  0.636929  0.572308   \n",
      "1   0.974854  0.568331    0.296339  0.157526    0.341859  0.531228  0.579402   \n",
      "2   0.882891  0.678743    0.992182  0.086614    0.959332  0.372590  0.513282   \n",
      "3   0.955180  0.512427    0.288832  0.909273    0.763343  0.094197  0.388022   \n",
      "4   0.098543  0.393014    0.919464  0.285657    0.440916  0.437403  0.482075   \n",
      "5   0.841136  0.648354  100.000000  0.670916    0.661151  0.101968  0.401533   \n",
      "6   0.460463  0.721960    0.271269  0.597935    0.248620  0.161225  0.295529   \n",
      "7   0.690075  0.879024    0.759194  0.341545    0.556697  0.821365  0.468875   \n",
      "8   0.233242  0.263140    0.399725  0.952060    0.808991  0.303799  0.015091   \n",
      "9   0.350653  0.145023    0.643585  0.939993    0.493332  0.340212  0.700781   \n",
      "10  0.789831  0.594316    0.711125  0.257468 -100.000000  0.204706  0.554054   \n",
      "11  0.827056  0.161764    0.435689  0.222190    0.391039  0.045384  0.808467   \n",
      "12  0.905242  0.940545    0.944771  0.813460    0.331694  0.100897  0.902208   \n",
      "13  0.380707  0.265826    0.797607  0.827870    0.743236  0.684476  0.808344   \n",
      "14  0.183188  0.189502    0.953590  0.786624    0.660308  0.423179  0.434279   \n",
      "15  0.896996  0.445504    0.592854  0.080668    0.595418  0.309808  0.329941   \n",
      "16  0.381173  0.669910    0.731925  0.235494    0.965347  0.191160  0.832928   \n",
      "17  0.328589  0.076629    0.426521  0.292595    0.343687  0.122470  0.441342   \n",
      "18  0.142267  0.223086    0.225559  0.868250    0.805323  0.322041  0.305992   \n",
      "19  0.160156  0.010227    0.936076  0.187078    0.415406  0.127330  0.342707   \n",
      "\n",
      "           DIS       RAD       TAX   PTRATIO         B     LSTAT  \n",
      "0     0.299686  0.586882  0.987049  0.877111  0.181353  0.554732  \n",
      "1     0.101894  0.496628  0.246632  0.289953  0.947115  0.130806  \n",
      "2     0.053979  0.357888  0.489903  0.422383  0.163166  0.222661  \n",
      "3     0.858758  0.194465  0.351270  0.177580  0.280787  0.715865  \n",
      "4     0.920374  0.124425  0.311417  0.472821  0.186160  0.279262  \n",
      "5     0.521900  0.677033  0.234912  0.436396  0.502684  0.583032  \n",
      "6     0.887839  0.213912  0.218318  0.352498  0.573672  0.154598  \n",
      "7     0.051961  0.569152  0.169833  0.612668  0.480244  0.987598  \n",
      "8     0.886534  0.219254  0.142522  0.429346  0.039197  0.089520  \n",
      "9     0.911833  0.951271  0.326429  0.667035  0.900370  0.372219  \n",
      "10    0.310851  0.889731  0.575234  0.570758  0.789902  0.501420  \n",
      "11    0.056252  0.560251  0.270161  0.856828  0.459227  0.281746  \n",
      "12    0.590752  0.558059  0.379890  0.330911  0.965065  0.374043  \n",
      "13    0.294034  0.247824  0.312269  0.436354  0.749972  0.157773  \n",
      "14    0.126988  0.324099  0.986305  0.055212  0.331799  0.461270  \n",
      "15  100.000000  0.870993  0.783091  0.109750  0.061457  0.991967  \n",
      "16    0.003380  0.109913  0.547615  0.251134  0.093294  0.279855  \n",
      "17    0.523308  0.383961  0.732150  0.145042  0.565097  0.075615  \n",
      "18    0.705338  0.829299  0.792487  0.968615  0.504671  0.037213  \n",
      "19    0.926808  0.771893  0.676977  0.492870  0.954178  0.024757  \n"
     ]
    }
   ],
   "source": [
    "\n",
    "\n",
    "# Define the column names\n",
    "columns = ['CRIM', 'ZN', 'INDUS', 'CHAS', 'NOX', 'RM', 'AGE', 'DIS', 'RAD', 'TAX', 'PTRATIO', 'B', 'LSTAT']\n",
    "\n",
    "# Generate random data\n",
    "num_rows = 20  # Number of rows in the DataFrame\n",
    "data = np.random.rand(num_rows, len(columns))  # Generate random numbers between 0 and 1\n",
    "\n",
    "# Create a DataFrame\n",
    "boston_df = pd.DataFrame(data, columns=columns)\n",
    "# Introduce outliers in specific columns\n",
    "boston_df.iloc[5, boston_df.columns.get_loc('INDUS')] = 100.0  # Outlier in the 'INDUS' column\n",
    "boston_df.iloc[10, boston_df.columns.get_loc('NOX')] = -100.0  # Outlier in the 'NOX' column\n",
    "boston_df.iloc[15, boston_df.columns.get_loc('DIS')] = 100.0  # Outlier in the 'DIS' column\n",
    "\n",
    "# Display the DataFrame\n",
    "print(boston_df)"
   ]
  },
  {
   "cell_type": "markdown",
   "metadata": {
    "id": "HZwBRASzN71A"
   },
   "source": [
    "### Using Z-Score"
   ]
  },
  {
   "cell_type": "code",
   "execution_count": 16,
   "metadata": {
    "id": "ZxtSuiVMN71B",
    "outputId": "b24fb5b1-866e-43d9-974a-b716cb66ff6a"
   },
   "outputs": [
    {
     "name": "stdout",
     "output_type": "stream",
     "text": [
      "        CRIM        ZN     INDUS      CHAS       NOX        RM       AGE  \\\n",
      "0   0.049477  0.527311  0.253475  1.238121  0.240735  1.501472  0.296526   \n",
      "1   1.388053  0.507909  0.243425  0.999640  0.217697  1.005994  0.329676   \n",
      "2   1.085825  0.925705  0.211307  1.219671  0.245859  0.262369  0.020673   \n",
      "3   1.323395  0.296372  0.243772  1.332920  0.236920  1.042609  0.564709   \n",
      "4   1.491842  0.155482  0.214664  0.602070  0.222215  0.566183  0.125166   \n",
      "5   0.948603  0.810714  4.358547  0.593332  0.232259  1.006183  0.501566   \n",
      "6   0.302434  1.089236  0.244582  0.366884  0.213445  0.728415  0.996959   \n",
      "7   0.452158  1.683559  0.222061  0.428657  0.227496  2.366023  0.186855   \n",
      "8   1.049167  0.646919  0.238653  1.465684  0.239002  0.060092  2.307544   \n",
      "9   0.663310  1.093867  0.227397  1.428241  0.224606  0.110596  0.896921   \n",
      "10  0.779994  0.606236  0.224280  0.689535  4.358693  0.524594  0.211216   \n",
      "11  0.902329  1.030523  0.236993  0.798999  0.219940  1.271425  1.400177   \n",
      "12  1.159280  1.916351  0.213496  1.035628  0.217234  1.011207  1.838256   \n",
      "13  0.564541  0.636757  0.220288  1.080337  0.236003  1.724352  1.399601   \n",
      "14  1.213664  0.925560  0.213089  0.952358  0.232221  0.499511  0.348531   \n",
      "15  1.132179  0.043137  0.229739  1.238120  0.229262  0.031924  0.836139   \n",
      "16  0.563012  0.892279  0.223320  0.757719  0.246133  0.588093  1.514490   \n",
      "17  0.735820  1.352667  0.237416  0.580541  0.217781  0.910078  0.315524   \n",
      "18  1.348148  0.798483  0.246692  1.205633  0.238835  0.025421  0.948063   \n",
      "19  1.289356  1.603930  0.213897  0.907945  0.221052  0.887300  0.776479   \n",
      "\n",
      "         DIS       RAD       TAX   PTRATIO         B     LSTAT  \n",
      "0   0.237488  0.340125  1.955052  1.726704  0.990638  0.678877  \n",
      "1   0.246605  0.000827  0.881478  0.634662  1.495595  0.828414  \n",
      "2   0.248814  0.524942  0.050492  0.102072  1.049688  0.501818  \n",
      "3   0.211716  1.142300  0.480612  1.086594  0.667803  1.251793  \n",
      "4   0.208876  1.406891  0.633286  0.100776  0.975032  0.300569  \n",
      "5   0.227244  0.680687  0.926376  0.045714  0.052642  0.779498  \n",
      "6   0.210376  1.068837  0.989947  0.383128  0.283121  0.743819  \n",
      "7   0.248907  0.273148  1.175692  0.663195  0.020215  2.217954  \n",
      "8   0.210436  1.048658  1.280320  0.074069  1.452184  0.975209  \n",
      "9   0.209270  1.716669  0.575776  0.881842  1.343825  0.029942  \n",
      "10  0.236973  1.484193  0.377392  0.494647  0.985165  0.489324  \n",
      "11  0.248709  0.239522  0.791336  1.645133  0.088453  0.291740  \n",
      "12  0.224071  0.231240  0.370965  0.469944  1.553874  0.036429  \n",
      "13  0.237748  0.940730  0.630024  0.045885  0.855523  0.732532  \n",
      "14  0.245449  0.652585  1.952203  1.578718  0.502179  0.346569  \n",
      "15  4.358376  1.413407  1.173693  1.359385  1.379909  2.233488  \n",
      "16  0.251147  1.461710  0.271586  0.790783  1.276544  0.298462  \n",
      "17  0.227180  0.426447  0.978536  1.217453  0.255281  1.024648  \n",
      "18  0.218789  1.255900  1.209688  2.094705  0.059091  1.161187  \n",
      "19  0.208579  1.039036  0.767171  0.181404  1.518527  1.205477  \n"
     ]
    }
   ],
   "source": [
    "#Step1: Use Z-score function defined in scipy library to detect the outliers\n",
    "boston_df_z = boston_df\n",
    "z = np.abs(stats.zscore(boston_df))\n",
    "print(z)"
   ]
  },
  {
   "cell_type": "markdown",
   "metadata": {
    "id": "pj8qUYMqN71C"
   },
   "source": [
    "Looking at the code and the output above, it is difficult to say which data point is an outlier.\n",
    "So let’s define a threshold to identify an outlier."
   ]
  },
  {
   "cell_type": "code",
   "execution_count": 17,
   "metadata": {
    "id": "w0PwHQUIN71D",
    "outputId": "775feacb-a66e-49a0-fe2b-8b576dee20f1"
   },
   "outputs": [
    {
     "name": "stdout",
     "output_type": "stream",
     "text": [
      "(array([ 5, 10, 15], dtype=int64), array([2, 4, 7], dtype=int64))\n"
     ]
    }
   ],
   "source": [
    "#Step2: Define a threshold\n",
    "threshold = 3\n",
    "print(np.where(z > 3))"
   ]
  },
  {
   "cell_type": "code",
   "execution_count": 21,
   "metadata": {
    "id": "J9KrljJvN71F",
    "outputId": "e17f3127-68be-47ef-96b8-1777e543ba42"
   },
   "outputs": [
    {
     "name": "stdout",
     "output_type": "stream",
     "text": [
      "The no. of rows before outlier filtering was:  (20, 13)\n",
      "The no. of rows after outlier filtering is:  (17, 13)\n"
     ]
    }
   ],
   "source": [
    "#Step4: Remove the outliers using the z-score\n",
    "boston_df_z = boston_df_z[(z < 3).all(axis=1)]\n",
    "\n",
    "print(\"The no. of rows before outlier filtering was: \", boston_df.shape)\n",
    "print(\"The no. of rows after outlier filtering is: \", boston_df_z.shape)"
   ]
  },
  {
   "cell_type": "markdown",
   "metadata": {
    "id": "udXrvwHwN71G"
   },
   "source": [
    "### Using IQR Score"
   ]
  },
  {
   "cell_type": "code",
   "execution_count": 22,
   "metadata": {
    "id": "Fn4UHF8qN71G",
    "outputId": "3f17b57f-06ca-4e09-c110-7a3ba9de2f71"
   },
   "outputs": [
    {
     "name": "stdout",
     "output_type": "stream",
     "text": [
      "CRIM       0.546822\n",
      "ZN         0.439053\n",
      "INDUS      0.549739\n",
      "CHAS       0.603651\n",
      "NOX        0.394636\n",
      "RM         0.300620\n",
      "AGE        0.233054\n",
      "DIS        0.766146\n",
      "RAD        0.460067\n",
      "TAX        0.426491\n",
      "PTRATIO    0.300987\n",
      "B          0.574997\n",
      "LSTAT      0.366098\n",
      "dtype: float64\n"
     ]
    }
   ],
   "source": [
    "#Step1: Calculate the IQR\n",
    "boston_df_iqr = boston_df\n",
    "Q1 = boston_df_iqr.quantile(0.25)\n",
    "Q3 = boston_df_iqr.quantile(0.75)\n",
    "IQR = Q3 - Q1\n",
    "print(IQR)"
   ]
  },
  {
   "cell_type": "code",
   "execution_count": 23,
   "metadata": {
    "id": "RbWhdNQ1N71H",
    "outputId": "1a964eaf-8e80-404e-f5c6-f9a0e239933b"
   },
   "outputs": [
    {
     "name": "stdout",
     "output_type": "stream",
     "text": [
      "     CRIM     ZN  INDUS   CHAS    NOX     RM    AGE    DIS    RAD    TAX  \\\n",
      "0   False  False  False  False  False  False  False  False  False  False   \n",
      "1   False  False  False  False  False  False  False  False  False  False   \n",
      "2   False  False  False  False  False  False  False  False  False  False   \n",
      "3   False  False  False  False  False  False  False  False  False  False   \n",
      "4   False  False  False  False  False  False  False  False  False  False   \n",
      "5   False  False  False  False  False  False  False  False  False  False   \n",
      "6   False  False  False  False  False  False  False  False  False  False   \n",
      "7   False  False  False  False  False  False  False  False  False  False   \n",
      "8   False  False  False  False  False  False   True  False  False  False   \n",
      "9   False  False  False  False  False  False  False  False  False  False   \n",
      "10  False  False  False  False   True  False  False  False  False  False   \n",
      "11  False  False  False  False  False  False  False  False  False  False   \n",
      "12  False  False  False  False  False  False  False  False  False  False   \n",
      "13  False  False  False  False  False  False  False  False  False  False   \n",
      "14  False  False  False  False  False  False  False  False  False  False   \n",
      "15  False  False  False  False  False  False  False  False  False  False   \n",
      "16  False  False  False  False  False  False  False  False  False  False   \n",
      "17  False  False  False  False  False  False  False  False  False  False   \n",
      "18  False  False  False  False  False  False  False  False  False  False   \n",
      "19  False  False  False  False  False  False  False  False  False  False   \n",
      "\n",
      "    PTRATIO      B  LSTAT  \n",
      "0     False  False  False  \n",
      "1     False  False  False  \n",
      "2     False  False  False  \n",
      "3     False  False  False  \n",
      "4     False  False  False  \n",
      "5     False  False  False  \n",
      "6     False  False  False  \n",
      "7     False  False  False  \n",
      "8     False  False  False  \n",
      "9     False  False  False  \n",
      "10    False  False  False  \n",
      "11    False  False  False  \n",
      "12    False  False  False  \n",
      "13    False  False  False  \n",
      "14    False  False  False  \n",
      "15    False  False  False  \n",
      "16    False  False  False  \n",
      "17    False  False  False  \n",
      "18    False  False  False  \n",
      "19    False  False  False  \n"
     ]
    },
    {
     "ename": "TypeError",
     "evalue": "Cannot perform 'ror_' with a dtyped [bool] array and scalar of type [NoneType]",
     "output_type": "error",
     "traceback": [
      "\u001b[1;31m---------------------------------------------------------------------------\u001b[0m",
      "\u001b[1;31mTypeError\u001b[0m                                 Traceback (most recent call last)",
      "File \u001b[1;32m~\\anaconda3\\Lib\\site-packages\\pandas\\core\\ops\\array_ops.py:364\u001b[0m, in \u001b[0;36mna_logical_op\u001b[1;34m(x, y, op)\u001b[0m\n\u001b[0;32m    355\u001b[0m \u001b[38;5;28;01mtry\u001b[39;00m:\n\u001b[0;32m    356\u001b[0m     \u001b[38;5;66;03m# For exposition, write:\u001b[39;00m\n\u001b[0;32m    357\u001b[0m     \u001b[38;5;66;03m#  yarr = isinstance(y, np.ndarray)\u001b[39;00m\n\u001b[1;32m   (...)\u001b[0m\n\u001b[0;32m    362\u001b[0m     \u001b[38;5;66;03m# Then Cases where this goes through without raising include:\u001b[39;00m\n\u001b[0;32m    363\u001b[0m     \u001b[38;5;66;03m#  (xint or xbool) and (yint or bool)\u001b[39;00m\n\u001b[1;32m--> 364\u001b[0m     result \u001b[38;5;241m=\u001b[39m op(x, y)\n\u001b[0;32m    365\u001b[0m \u001b[38;5;28;01mexcept\u001b[39;00m \u001b[38;5;167;01mTypeError\u001b[39;00m:\n",
      "File \u001b[1;32m~\\anaconda3\\Lib\\site-packages\\pandas\\core\\roperator.py:58\u001b[0m, in \u001b[0;36mror_\u001b[1;34m(left, right)\u001b[0m\n\u001b[0;32m     57\u001b[0m \u001b[38;5;28;01mdef\u001b[39;00m \u001b[38;5;21mror_\u001b[39m(left, right):\n\u001b[1;32m---> 58\u001b[0m     \u001b[38;5;28;01mreturn\u001b[39;00m operator\u001b[38;5;241m.\u001b[39mor_(right, left)\n",
      "\u001b[1;31mTypeError\u001b[0m: unsupported operand type(s) for |: 'NoneType' and 'bool'",
      "\nDuring handling of the above exception, another exception occurred:\n",
      "\u001b[1;31mValueError\u001b[0m                                Traceback (most recent call last)",
      "File \u001b[1;32m~\\anaconda3\\Lib\\site-packages\\pandas\\core\\ops\\array_ops.py:378\u001b[0m, in \u001b[0;36mna_logical_op\u001b[1;34m(x, y, op)\u001b[0m\n\u001b[0;32m    377\u001b[0m \u001b[38;5;28;01mtry\u001b[39;00m:\n\u001b[1;32m--> 378\u001b[0m     result \u001b[38;5;241m=\u001b[39m libops\u001b[38;5;241m.\u001b[39mscalar_binop(x, y, op)\n\u001b[0;32m    379\u001b[0m \u001b[38;5;28;01mexcept\u001b[39;00m (\n\u001b[0;32m    380\u001b[0m     \u001b[38;5;167;01mTypeError\u001b[39;00m,\n\u001b[0;32m    381\u001b[0m     \u001b[38;5;167;01mValueError\u001b[39;00m,\n\u001b[1;32m   (...)\u001b[0m\n\u001b[0;32m    384\u001b[0m     \u001b[38;5;167;01mNotImplementedError\u001b[39;00m,\n\u001b[0;32m    385\u001b[0m ) \u001b[38;5;28;01mas\u001b[39;00m err:\n",
      "File \u001b[1;32mops.pyx:180\u001b[0m, in \u001b[0;36mpandas._libs.ops.scalar_binop\u001b[1;34m()\u001b[0m\n",
      "\u001b[1;31mValueError\u001b[0m: Buffer has wrong number of dimensions (expected 1, got 2)",
      "\nThe above exception was the direct cause of the following exception:\n",
      "\u001b[1;31mTypeError\u001b[0m                                 Traceback (most recent call last)",
      "Cell \u001b[1;32mIn[23], line 2\u001b[0m\n\u001b[0;32m      1\u001b[0m \u001b[38;5;66;03m#Step2: Detect the outliers\u001b[39;00m\n\u001b[1;32m----> 2\u001b[0m \u001b[38;5;28mprint\u001b[39m(boston_df_iqr \u001b[38;5;241m<\u001b[39m (Q1 \u001b[38;5;241m-\u001b[39m \u001b[38;5;241m1.5\u001b[39m \u001b[38;5;241m*\u001b[39m IQR)) \u001b[38;5;241m|\u001b[39m(boston_df_iqr \u001b[38;5;241m>\u001b[39m (Q3 \u001b[38;5;241m+\u001b[39m \u001b[38;5;241m1.5\u001b[39m \u001b[38;5;241m*\u001b[39m IQR))\n",
      "File \u001b[1;32m~\\anaconda3\\Lib\\site-packages\\pandas\\core\\ops\\common.py:76\u001b[0m, in \u001b[0;36m_unpack_zerodim_and_defer.<locals>.new_method\u001b[1;34m(self, other)\u001b[0m\n\u001b[0;32m     72\u001b[0m             \u001b[38;5;28;01mreturn\u001b[39;00m \u001b[38;5;28mNotImplemented\u001b[39m\n\u001b[0;32m     74\u001b[0m other \u001b[38;5;241m=\u001b[39m item_from_zerodim(other)\n\u001b[1;32m---> 76\u001b[0m \u001b[38;5;28;01mreturn\u001b[39;00m method(\u001b[38;5;28mself\u001b[39m, other)\n",
      "File \u001b[1;32m~\\anaconda3\\Lib\\site-packages\\pandas\\core\\arraylike.py:82\u001b[0m, in \u001b[0;36mOpsMixin.__ror__\u001b[1;34m(self, other)\u001b[0m\n\u001b[0;32m     80\u001b[0m \u001b[38;5;129m@unpack_zerodim_and_defer\u001b[39m(\u001b[38;5;124m\"\u001b[39m\u001b[38;5;124m__ror__\u001b[39m\u001b[38;5;124m\"\u001b[39m)\n\u001b[0;32m     81\u001b[0m \u001b[38;5;28;01mdef\u001b[39;00m \u001b[38;5;21m__ror__\u001b[39m(\u001b[38;5;28mself\u001b[39m, other):\n\u001b[1;32m---> 82\u001b[0m     \u001b[38;5;28;01mreturn\u001b[39;00m \u001b[38;5;28mself\u001b[39m\u001b[38;5;241m.\u001b[39m_logical_method(other, roperator\u001b[38;5;241m.\u001b[39mror_)\n",
      "File \u001b[1;32m~\\anaconda3\\Lib\\site-packages\\pandas\\core\\frame.py:7644\u001b[0m, in \u001b[0;36mDataFrame._arith_method\u001b[1;34m(self, other, op)\u001b[0m\n\u001b[0;32m   7641\u001b[0m \u001b[38;5;28mself\u001b[39m, other \u001b[38;5;241m=\u001b[39m \u001b[38;5;28mself\u001b[39m\u001b[38;5;241m.\u001b[39m_align_for_op(other, axis, flex\u001b[38;5;241m=\u001b[39m\u001b[38;5;28;01mTrue\u001b[39;00m, level\u001b[38;5;241m=\u001b[39m\u001b[38;5;28;01mNone\u001b[39;00m)\n\u001b[0;32m   7643\u001b[0m \u001b[38;5;28;01mwith\u001b[39;00m np\u001b[38;5;241m.\u001b[39merrstate(\u001b[38;5;28mall\u001b[39m\u001b[38;5;241m=\u001b[39m\u001b[38;5;124m\"\u001b[39m\u001b[38;5;124mignore\u001b[39m\u001b[38;5;124m\"\u001b[39m):\n\u001b[1;32m-> 7644\u001b[0m     new_data \u001b[38;5;241m=\u001b[39m \u001b[38;5;28mself\u001b[39m\u001b[38;5;241m.\u001b[39m_dispatch_frame_op(other, op, axis\u001b[38;5;241m=\u001b[39maxis)\n\u001b[0;32m   7645\u001b[0m \u001b[38;5;28;01mreturn\u001b[39;00m \u001b[38;5;28mself\u001b[39m\u001b[38;5;241m.\u001b[39m_construct_result(new_data)\n",
      "File \u001b[1;32m~\\anaconda3\\Lib\\site-packages\\pandas\\core\\frame.py:7676\u001b[0m, in \u001b[0;36mDataFrame._dispatch_frame_op\u001b[1;34m(self, right, func, axis)\u001b[0m\n\u001b[0;32m   7673\u001b[0m right \u001b[38;5;241m=\u001b[39m lib\u001b[38;5;241m.\u001b[39mitem_from_zerodim(right)\n\u001b[0;32m   7674\u001b[0m \u001b[38;5;28;01mif\u001b[39;00m \u001b[38;5;129;01mnot\u001b[39;00m is_list_like(right):\n\u001b[0;32m   7675\u001b[0m     \u001b[38;5;66;03m# i.e. scalar, faster than checking np.ndim(right) == 0\u001b[39;00m\n\u001b[1;32m-> 7676\u001b[0m     bm \u001b[38;5;241m=\u001b[39m \u001b[38;5;28mself\u001b[39m\u001b[38;5;241m.\u001b[39m_mgr\u001b[38;5;241m.\u001b[39mapply(array_op, right\u001b[38;5;241m=\u001b[39mright)\n\u001b[0;32m   7677\u001b[0m     \u001b[38;5;28;01mreturn\u001b[39;00m \u001b[38;5;28mself\u001b[39m\u001b[38;5;241m.\u001b[39m_constructor_from_mgr(bm, axes\u001b[38;5;241m=\u001b[39mbm\u001b[38;5;241m.\u001b[39maxes)\n\u001b[0;32m   7679\u001b[0m \u001b[38;5;28;01melif\u001b[39;00m \u001b[38;5;28misinstance\u001b[39m(right, DataFrame):\n",
      "File \u001b[1;32m~\\anaconda3\\Lib\\site-packages\\pandas\\core\\internals\\managers.py:352\u001b[0m, in \u001b[0;36mBaseBlockManager.apply\u001b[1;34m(self, f, align_keys, **kwargs)\u001b[0m\n\u001b[0;32m    349\u001b[0m             kwargs[k] \u001b[38;5;241m=\u001b[39m obj[b\u001b[38;5;241m.\u001b[39mmgr_locs\u001b[38;5;241m.\u001b[39mindexer]\n\u001b[0;32m    351\u001b[0m \u001b[38;5;28;01mif\u001b[39;00m \u001b[38;5;28mcallable\u001b[39m(f):\n\u001b[1;32m--> 352\u001b[0m     applied \u001b[38;5;241m=\u001b[39m b\u001b[38;5;241m.\u001b[39mapply(f, \u001b[38;5;241m*\u001b[39m\u001b[38;5;241m*\u001b[39mkwargs)\n\u001b[0;32m    353\u001b[0m \u001b[38;5;28;01melse\u001b[39;00m:\n\u001b[0;32m    354\u001b[0m     applied \u001b[38;5;241m=\u001b[39m \u001b[38;5;28mgetattr\u001b[39m(b, f)(\u001b[38;5;241m*\u001b[39m\u001b[38;5;241m*\u001b[39mkwargs)\n",
      "File \u001b[1;32m~\\anaconda3\\Lib\\site-packages\\pandas\\core\\internals\\blocks.py:366\u001b[0m, in \u001b[0;36mBlock.apply\u001b[1;34m(self, func, **kwargs)\u001b[0m\n\u001b[0;32m    360\u001b[0m \u001b[38;5;129m@final\u001b[39m\n\u001b[0;32m    361\u001b[0m \u001b[38;5;28;01mdef\u001b[39;00m \u001b[38;5;21mapply\u001b[39m(\u001b[38;5;28mself\u001b[39m, func, \u001b[38;5;241m*\u001b[39m\u001b[38;5;241m*\u001b[39mkwargs) \u001b[38;5;241m-\u001b[39m\u001b[38;5;241m>\u001b[39m \u001b[38;5;28mlist\u001b[39m[Block]:\n\u001b[0;32m    362\u001b[0m \u001b[38;5;250m    \u001b[39m\u001b[38;5;124;03m\"\"\"\u001b[39;00m\n\u001b[0;32m    363\u001b[0m \u001b[38;5;124;03m    apply the function to my values; return a block if we are not\u001b[39;00m\n\u001b[0;32m    364\u001b[0m \u001b[38;5;124;03m    one\u001b[39;00m\n\u001b[0;32m    365\u001b[0m \u001b[38;5;124;03m    \"\"\"\u001b[39;00m\n\u001b[1;32m--> 366\u001b[0m     result \u001b[38;5;241m=\u001b[39m func(\u001b[38;5;28mself\u001b[39m\u001b[38;5;241m.\u001b[39mvalues, \u001b[38;5;241m*\u001b[39m\u001b[38;5;241m*\u001b[39mkwargs)\n\u001b[0;32m    368\u001b[0m     result \u001b[38;5;241m=\u001b[39m maybe_coerce_values(result)\n\u001b[0;32m    369\u001b[0m     \u001b[38;5;28;01mreturn\u001b[39;00m \u001b[38;5;28mself\u001b[39m\u001b[38;5;241m.\u001b[39m_split_op_result(result)\n",
      "File \u001b[1;32m~\\anaconda3\\Lib\\site-packages\\pandas\\core\\ops\\array_ops.py:456\u001b[0m, in \u001b[0;36mlogical_op\u001b[1;34m(left, right, op)\u001b[0m\n\u001b[0;32m    452\u001b[0m \u001b[38;5;28;01melse\u001b[39;00m:\n\u001b[0;32m    453\u001b[0m     \u001b[38;5;66;03m# i.e. scalar\u001b[39;00m\n\u001b[0;32m    454\u001b[0m     is_other_int_dtype \u001b[38;5;241m=\u001b[39m lib\u001b[38;5;241m.\u001b[39mis_integer(rvalues)\n\u001b[1;32m--> 456\u001b[0m res_values \u001b[38;5;241m=\u001b[39m na_logical_op(lvalues, rvalues, op)\n\u001b[0;32m    458\u001b[0m \u001b[38;5;66;03m# For int vs int `^`, `|`, `&` are bitwise operators and return\u001b[39;00m\n\u001b[0;32m    459\u001b[0m \u001b[38;5;66;03m#   integer dtypes.  Otherwise these are boolean ops\u001b[39;00m\n\u001b[0;32m    460\u001b[0m \u001b[38;5;28;01mif\u001b[39;00m \u001b[38;5;129;01mnot\u001b[39;00m (left\u001b[38;5;241m.\u001b[39mdtype\u001b[38;5;241m.\u001b[39mkind \u001b[38;5;129;01min\u001b[39;00m \u001b[38;5;124m\"\u001b[39m\u001b[38;5;124miu\u001b[39m\u001b[38;5;124m\"\u001b[39m \u001b[38;5;129;01mand\u001b[39;00m is_other_int_dtype):\n",
      "File \u001b[1;32m~\\anaconda3\\Lib\\site-packages\\pandas\\core\\ops\\array_ops.py:387\u001b[0m, in \u001b[0;36mna_logical_op\u001b[1;34m(x, y, op)\u001b[0m\n\u001b[0;32m    379\u001b[0m         \u001b[38;5;28;01mexcept\u001b[39;00m (\n\u001b[0;32m    380\u001b[0m             \u001b[38;5;167;01mTypeError\u001b[39;00m,\n\u001b[0;32m    381\u001b[0m             \u001b[38;5;167;01mValueError\u001b[39;00m,\n\u001b[1;32m   (...)\u001b[0m\n\u001b[0;32m    384\u001b[0m             \u001b[38;5;167;01mNotImplementedError\u001b[39;00m,\n\u001b[0;32m    385\u001b[0m         ) \u001b[38;5;28;01mas\u001b[39;00m err:\n\u001b[0;32m    386\u001b[0m             typ \u001b[38;5;241m=\u001b[39m \u001b[38;5;28mtype\u001b[39m(y)\u001b[38;5;241m.\u001b[39m\u001b[38;5;18m__name__\u001b[39m\n\u001b[1;32m--> 387\u001b[0m             \u001b[38;5;28;01mraise\u001b[39;00m \u001b[38;5;167;01mTypeError\u001b[39;00m(\n\u001b[0;32m    388\u001b[0m                 \u001b[38;5;124mf\u001b[39m\u001b[38;5;124m\"\u001b[39m\u001b[38;5;124mCannot perform \u001b[39m\u001b[38;5;124m'\u001b[39m\u001b[38;5;132;01m{\u001b[39;00mop\u001b[38;5;241m.\u001b[39m\u001b[38;5;18m__name__\u001b[39m\u001b[38;5;132;01m}\u001b[39;00m\u001b[38;5;124m'\u001b[39m\u001b[38;5;124m with a dtyped [\u001b[39m\u001b[38;5;132;01m{\u001b[39;00mx\u001b[38;5;241m.\u001b[39mdtype\u001b[38;5;132;01m}\u001b[39;00m\u001b[38;5;124m] array \u001b[39m\u001b[38;5;124m\"\u001b[39m\n\u001b[0;32m    389\u001b[0m                 \u001b[38;5;124mf\u001b[39m\u001b[38;5;124m\"\u001b[39m\u001b[38;5;124mand scalar of type [\u001b[39m\u001b[38;5;132;01m{\u001b[39;00mtyp\u001b[38;5;132;01m}\u001b[39;00m\u001b[38;5;124m]\u001b[39m\u001b[38;5;124m\"\u001b[39m\n\u001b[0;32m    390\u001b[0m             ) \u001b[38;5;28;01mfrom\u001b[39;00m \u001b[38;5;21;01merr\u001b[39;00m\n\u001b[0;32m    392\u001b[0m \u001b[38;5;28;01mreturn\u001b[39;00m result\u001b[38;5;241m.\u001b[39mreshape(x\u001b[38;5;241m.\u001b[39mshape)\n",
      "\u001b[1;31mTypeError\u001b[0m: Cannot perform 'ror_' with a dtyped [bool] array and scalar of type [NoneType]"
     ]
    }
   ],
   "source": [
    "#Step2: Detect the outliers\n",
    "print(boston_df_iqr < (Q1 - 1.5 * IQR)) |(boston_df_iqr > (Q3 + 1.5 * IQR))"
   ]
  },
  {
   "cell_type": "markdown",
   "metadata": {
    "id": "Gd9bULRTN71H"
   },
   "source": [
    "The data point where we have False that means these values are valid whereas <b><i>True</i> indicates presence of an outlier</b>."
   ]
  },
  {
   "cell_type": "code",
   "execution_count": 24,
   "metadata": {
    "id": "O-KJidrJN71H",
    "outputId": "d02005ac-25e7-4f6a-b774-45d942325116"
   },
   "outputs": [
    {
     "name": "stdout",
     "output_type": "stream",
     "text": [
      "The no. of rows before outlier filtering was:  (20, 13)\n",
      "The no. of rows after outlier filtering is:  (16, 13)\n"
     ]
    }
   ],
   "source": [
    "#Step3: Remove the outliers using the IQR score\n",
    "boston_df_out = boston_df_iqr[~((boston_df_iqr < (Q1 - 1.5 * IQR)) |(boston_df_iqr > (Q3 + 1.5 * IQR))).any(axis=1)]\n",
    "\n",
    "print(\"The no. of rows before outlier filtering was: \", boston_df_iqr.shape)\n",
    "print(\"The no. of rows after outlier filtering is: \", boston_df_out.shape)"
   ]
  },
  {
   "cell_type": "code",
   "execution_count": 15,
   "metadata": {},
   "outputs": [
    {
     "name": "stdout",
     "output_type": "stream",
     "text": [
      "        CRIM        ZN     INDUS      CHAS       NOX        RM       AGE  \\\n",
      "0   0.935901  0.184580  0.378560  0.327824  0.358714  0.922855  0.577494   \n",
      "1   0.261980  0.453886  0.765653  0.884395  0.244139  0.289694  0.234978   \n",
      "2   0.673691  0.239742  0.183082  0.856572  0.721046  0.754697  0.683417   \n",
      "3   0.058502  0.758463  0.228258  0.010332  0.757972  0.412882  0.639415   \n",
      "4   0.243489  0.401212  0.621007  0.076008  0.487308  0.527604  0.549366   \n",
      "5   0.842674  0.734955  0.794781  0.974991  0.523140  0.823195  0.074309   \n",
      "6   0.737742  0.351063  0.475868  0.208937  0.344342  0.804741  0.172414   \n",
      "7   0.430843  0.330222  0.792397  0.253859  0.757773  0.371135  0.534966   \n",
      "8   0.568981  0.554228  0.753827  0.281874  0.312823  0.735936  0.838611   \n",
      "9   0.670365  0.221349  0.092201  0.292420  0.144678  0.609305  0.541129   \n",
      "10  0.262854  0.522670  0.582450  0.191589  0.802648  0.623636  0.992020   \n",
      "11  0.270769  0.865622  0.585053  0.338649  0.559414  0.020169  0.783508   \n",
      "12  0.772943  0.736720  0.271501  0.654753  0.954090  0.658155  0.263365   \n",
      "13  0.636008  0.656164  0.892230  0.695942  0.869615  0.721990  0.436624   \n",
      "14  0.596910  0.920327  0.742295  0.029900  0.043754  0.405239  0.767460   \n",
      "15  0.128776  0.269052  0.538422  0.259530  0.150320  0.958539  0.922932   \n",
      "16  0.230020  0.279290  0.808566  0.014882  0.798621  0.971390  0.179232   \n",
      "17  0.232328  0.793718  0.319530  0.930368  0.230977  0.411471  0.728923   \n",
      "18  0.963369  0.932719  0.458559  0.787786  0.178701  0.188775  0.723842   \n",
      "19  0.811150  0.030958  0.057667  0.529293  0.625225  0.622163  0.673058   \n",
      "\n",
      "         DIS       RAD       TAX   PTRATIO         B     LSTAT  \n",
      "0   0.878001  0.962989  0.593339  0.051806  0.566972  0.431575  \n",
      "1   0.616277  0.800728  0.065000  0.256198  0.509840  0.085223  \n",
      "2   0.028696  0.517972  0.069366  0.622761  0.415365  0.246393  \n",
      "3   0.914526  0.896809  0.284732  0.757735  0.782484  0.564768  \n",
      "4   0.704416  0.739958  0.532575  0.855631  0.711202  0.881998  \n",
      "5   0.602251  0.112826  0.116429  0.814586  0.514278  0.665641  \n",
      "6   0.882971  0.545399  0.817278  0.088349  0.756739  0.877923  \n",
      "7   0.850563  0.610553  0.481364  0.966184  0.398640  0.489996  \n",
      "8   0.752106  0.994133  0.392399  0.313373  0.330733  0.006742  \n",
      "9   0.157520  0.023422  0.863157  0.869004  0.751788  0.978167  \n",
      "10  0.240333  0.053960  0.713559  0.062869  0.077518  0.488961  \n",
      "11  0.307271  0.817367  0.466952  0.449475  0.351359  0.022591  \n",
      "12  0.388692  0.577299  0.736058  0.281587  0.939817  0.953973  \n",
      "13  0.794083  0.272344  0.276195  0.545789  0.782399  0.365300  \n",
      "14  0.595457  0.863183  0.075692  0.309863  0.714001  0.486846  \n",
      "15  0.333399  0.281668  0.082466  0.003967  0.642531  0.417753  \n",
      "16  0.787260  0.941499  0.048933  0.771632  0.244122  0.055591  \n",
      "17  0.634518  0.549995  0.540339  0.584193  0.340964  0.791921  \n",
      "18  0.529150  0.697714  0.154909  0.016043  0.642002  0.046901  \n",
      "19  0.810728  0.755481  0.407662  0.905446  0.474403  0.016220  \n"
     ]
    }
   ],
   "source": [
    "\n"
   ]
  },
  {
   "cell_type": "markdown",
   "metadata": {
    "id": "z4BP9MLyN71I"
   },
   "source": [
    "Hence, the outliers have been removed."
   ]
  }
 ],
 "metadata": {
  "colab": {
   "name": "Demo Detecting and Removing Outliers.ipynb",
   "provenance": []
  },
  "kernelspec": {
   "display_name": "Python 3 (ipykernel)",
   "language": "python",
   "name": "python3"
  },
  "language_info": {
   "codemirror_mode": {
    "name": "ipython",
    "version": 3
   },
   "file_extension": ".py",
   "mimetype": "text/x-python",
   "name": "python",
   "nbconvert_exporter": "python",
   "pygments_lexer": "ipython3",
   "version": "3.11.7"
  }
 },
 "nbformat": 4,
 "nbformat_minor": 4
}
